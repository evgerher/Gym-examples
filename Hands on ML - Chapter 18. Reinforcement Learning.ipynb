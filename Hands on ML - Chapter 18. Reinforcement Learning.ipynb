{
 "cells": [
  {
   "cell_type": "markdown",
   "metadata": {},
   "source": [
    "# RL\n",
    "\n",
    "## Learning to Optimize Rewards\n",
    "\n",
    "In RL, a software agent makes observations and takes actions within an environment, and in return it receives rewards.  \n",
    "\n",
    "## Policy Search\n",
    "\n",
    "The algorithm a software agent uses to determine its actions is called its __policy__.  \n",
    "The policy could be a NN taking observations as inputs and outputting the action to take.  \n",
    "\n",
    "If policy involves randomness, it is called a _stochastic policy_.  \n",
    "\n",
    "1) Genetic algorithms  \n",
    "2) Policy gradients "
   ]
  },
  {
   "cell_type": "code",
   "execution_count": 1,
   "metadata": {},
   "outputs": [
    {
     "name": "stdout",
     "output_type": "stream",
     "text": [
      "[-0.02910841  0.01107512 -0.02014337 -0.01282661]\n"
     ]
    }
   ],
   "source": [
    "import gym\n",
    "env = gym.make(\"CartPole-v1\")\n",
    "obs = env.reset()\n",
    "print(obs)"
   ]
  },
  {
   "cell_type": "markdown",
   "metadata": {},
   "source": [
    "`obs = [x, x_velocity, angle, angular_velocity]`"
   ]
  },
  {
   "cell_type": "code",
   "execution_count": 5,
   "metadata": {},
   "outputs": [],
   "source": [
    "def basic_policy(obs):\n",
    "    angle = obs[2]\n",
    "    return 0 if angle < 0 else 1"
   ]
  },
  {
   "cell_type": "code",
   "execution_count": 8,
   "metadata": {},
   "outputs": [],
   "source": [
    "def run_basic_policy():\n",
    "    totals = []\n",
    "    for ep in range(500):\n",
    "        ep_rewards = 0\n",
    "        obs = env.reset()\n",
    "        for step in range(200):\n",
    "            env.render()\n",
    "            action = basic_policy(obs)\n",
    "            obs, reward, done, info = env.step(action)\n",
    "            ep_rewards += reward\n",
    "            if done:\n",
    "                break\n",
    "        totals.append(ep_rewards)\n",
    "    return totals"
   ]
  },
  {
   "cell_type": "code",
   "execution_count": 9,
   "metadata": {},
   "outputs": [],
   "source": [
    "totals = run_basic_policy()"
   ]
  },
  {
   "cell_type": "code",
   "execution_count": 3,
   "metadata": {},
   "outputs": [
    {
     "ename": "NameError",
     "evalue": "name 'totals' is not defined",
     "output_type": "error",
     "traceback": [
      "\u001b[0;31m---------------------------------------------------------------------------\u001b[0m",
      "\u001b[0;31mNameError\u001b[0m                                 Traceback (most recent call last)",
      "\u001b[0;32m<ipython-input-3-212d0f95531b>\u001b[0m in \u001b[0;36m<module>\u001b[0;34m\u001b[0m\n\u001b[1;32m      1\u001b[0m \u001b[0;32mimport\u001b[0m \u001b[0mnumpy\u001b[0m \u001b[0;32mas\u001b[0m \u001b[0mnp\u001b[0m\u001b[0;34m\u001b[0m\u001b[0;34m\u001b[0m\u001b[0m\n\u001b[0;32m----> 2\u001b[0;31m \u001b[0mnp\u001b[0m\u001b[0;34m.\u001b[0m\u001b[0mmean\u001b[0m\u001b[0;34m(\u001b[0m\u001b[0mtotals\u001b[0m\u001b[0;34m)\u001b[0m\u001b[0;34m,\u001b[0m \u001b[0mnp\u001b[0m\u001b[0;34m.\u001b[0m\u001b[0mstd\u001b[0m\u001b[0;34m(\u001b[0m\u001b[0mtotals\u001b[0m\u001b[0;34m)\u001b[0m\u001b[0;34m,\u001b[0m \u001b[0mnp\u001b[0m\u001b[0;34m.\u001b[0m\u001b[0mmin\u001b[0m\u001b[0;34m(\u001b[0m\u001b[0mtotals\u001b[0m\u001b[0;34m)\u001b[0m\u001b[0;34m,\u001b[0m \u001b[0mnp\u001b[0m\u001b[0;34m.\u001b[0m\u001b[0mmax\u001b[0m\u001b[0;34m(\u001b[0m\u001b[0mtotals\u001b[0m\u001b[0;34m)\u001b[0m\u001b[0;34m\u001b[0m\u001b[0;34m\u001b[0m\u001b[0m\n\u001b[0m",
      "\u001b[0;31mNameError\u001b[0m: name 'totals' is not defined"
     ]
    }
   ],
   "source": [
    "np.mean(totals), np.std(totals), np.min(totals), np.max(totals)"
   ]
  },
  {
   "cell_type": "code",
   "execution_count": 3,
   "metadata": {},
   "outputs": [],
   "source": [
    "import tensorflow as tf\n",
    "from tensorflow import keras\n",
    "import numpy as np"
   ]
  },
  {
   "cell_type": "code",
   "execution_count": 14,
   "metadata": {},
   "outputs": [],
   "source": [
    "n_inputs = 4\n",
    "model = keras.models.Sequential([\n",
    "    keras.layers.Dense(5, activation='elu', input_shape=[n_inputs,]),\n",
    "    keras.layers.Dense(1, activation='sigmoid')\n",
    "])"
   ]
  },
  {
   "cell_type": "markdown",
   "metadata": {},
   "source": [
    "## Credit assignment problem, discount factor $\\gamma$"
   ]
  },
  {
   "cell_type": "code",
   "execution_count": 15,
   "metadata": {},
   "outputs": [],
   "source": [
    "gamma = 0.9"
   ]
  },
  {
   "cell_type": "code",
   "execution_count": 16,
   "metadata": {},
   "outputs": [],
   "source": [
    "def play_one_step(env, obs, model, loss_fn):\n",
    "    with tf.GradientTape() as tape:\n",
    "        left_proba = model(obs[np.newaxis])\n",
    "        action = (tf.random.uniform([1,1]) > left_proba)\n",
    "        y_target = tf.constant([[1.]]) - tf.cast(action, tf.float32)\n",
    "        loss = tf.reduce_mean(loss_fn(y_target, left_proba))\n",
    "    grads = tape.gradient(loss, model.trainable_variables)\n",
    "    obs, reward, done, info = env.step(int(action[0,0].numpy()))\n",
    "    return obs, reward, done, grads"
   ]
  },
  {
   "cell_type": "code",
   "execution_count": 17,
   "metadata": {},
   "outputs": [],
   "source": [
    "def play_multiple_episodes(env, n_episodes, n_max_steps, model, loss_fn):\n",
    "    all_rewards = []\n",
    "    all_grads = []\n",
    "    for episode in range(n_episodes):\n",
    "        current_rewards = []\n",
    "        current_grads = []\n",
    "        obs = env.reset()\n",
    "        for step in range(n_max_steps):\n",
    "            obs, reward, done, grads = play_one_step(env, obs, model, loss_fn)\n",
    "            current_rewards.append(reward)\n",
    "            current_grads.append(grads)\n",
    "            if done:\n",
    "                break\n",
    "        all_rewards.append(current_rewards)\n",
    "        all_grads.append(current_grads)\n",
    "    return all_rewards, all_grads"
   ]
  },
  {
   "cell_type": "code",
   "execution_count": 18,
   "metadata": {},
   "outputs": [],
   "source": [
    "def discount_rewards(rewards, discount_factor):\n",
    "    discounted = np.array(rewards)\n",
    "    for step in range(len(rewards) - 2, -1, -1):\n",
    "        discounted[step] += discounted[step + 1] * discount_factor\n",
    "    return discounted\n",
    "\n",
    "def discount_and_normalize_rewards(all_rewards, discount_factor):\n",
    "    all_discounted_rewards = [discount_rewards(rewards, discount_factor) for rewards in all_rewards]\n",
    "    flat_rewards = np.concatenate(all_discounted_rewards)\n",
    "    reward_mean = flat_rewards.mean()\n",
    "    reward_std = flat_rewards.std()\n",
    "    return [(discounted_rewards - reward_mean) / reward_std for discounted_rewards in all_discounted_rewards]"
   ]
  },
  {
   "cell_type": "code",
   "execution_count": 19,
   "metadata": {},
   "outputs": [
    {
     "data": {
      "text/plain": [
       "array([-22, -40, -50])"
      ]
     },
     "execution_count": 19,
     "metadata": {},
     "output_type": "execute_result"
    }
   ],
   "source": [
    "discount_rewards([10, 0, -50], discount_factor=0.8)"
   ]
  },
  {
   "cell_type": "code",
   "execution_count": 20,
   "metadata": {},
   "outputs": [
    {
     "data": {
      "text/plain": [
       "[array([-0.28435071, -0.86597718, -1.18910299]),\n",
       " array([1.26665318, 1.0727777 ])]"
      ]
     },
     "execution_count": 20,
     "metadata": {},
     "output_type": "execute_result"
    }
   ],
   "source": [
    "discount_and_normalize_rewards([[10, 0, -50], [10, 20]], discount_factor=0.8)"
   ]
  },
  {
   "cell_type": "code",
   "execution_count": 21,
   "metadata": {},
   "outputs": [],
   "source": [
    "n_iterations = 150\n",
    "n_episodes_per_update = 10\n",
    "n_max_steps = 200\n",
    "discount_factor = 0.95"
   ]
  },
  {
   "cell_type": "code",
   "execution_count": 22,
   "metadata": {},
   "outputs": [],
   "source": [
    "optimizer = keras.optimizers.Adam(lr=0.01)\n",
    "loss_fn = keras.losses.binary_crossentropy"
   ]
  },
  {
   "cell_type": "code",
   "execution_count": null,
   "metadata": {},
   "outputs": [],
   "source": [
    "from tqdm.notebook import tqdm\n"
   ]
  },
  {
   "cell_type": "code",
   "execution_count": 29,
   "metadata": {},
   "outputs": [],
   "source": [
    "def train():\n",
    "    for iter in range(n_iterations):\n",
    "        all_rewards, all_grads = play_multiple_episodes(env, n_episodes_per_update, n_max_steps, model, loss_fn)\n",
    "        all_final_rewards = discount_and_normalize_rewards(all_rewards, discount_factor)\n",
    "        \n",
    "        all_mean_grads = []\n",
    "        for vi in range(len(model.trainable_variables)):\n",
    "            mean_grads = tf.reduce_mean([final_reward * all_grads[episode_index][step][vi] \n",
    "             for episode_index, final_rewards in enumerate(all_final_rewards) \n",
    "                 for step, final_reward in enumerate(final_rewards)], axis=0)\n",
    "            all_mean_grads.append(mean_grads)\n",
    "        optimizer.apply_gradients(zip(all_mean_grads, model.trainable_variables))"
   ]
  },
  {
   "cell_type": "code",
   "execution_count": 30,
   "metadata": {},
   "outputs": [],
   "source": [
    "train()"
   ]
  },
  {
   "cell_type": "code",
   "execution_count": 46,
   "metadata": {},
   "outputs": [],
   "source": [
    "import time\n",
    "def test():\n",
    "    obs = env.reset()\n",
    "    done = False\n",
    "    while not done:\n",
    "        time.sleep(0.05)\n",
    "        env.render()\n",
    "        action = model(obs[np.newaxis])\n",
    "        obs, reward, done, _ = env.step(int(action[0,0].numpy()))"
   ]
  },
  {
   "cell_type": "code",
   "execution_count": 47,
   "metadata": {},
   "outputs": [],
   "source": [
    "test()"
   ]
  },
  {
   "cell_type": "code",
   "execution_count": 48,
   "metadata": {},
   "outputs": [],
   "source": [
    "env.close()"
   ]
  },
  {
   "cell_type": "markdown",
   "metadata": {},
   "source": [
    "# Markov Decision Process\n",
    "\n",
    "## Bellman Optimality Equation\n",
    "\n",
    "Bellman fount a way to estimate the _optimal state_ value of any state $s$, noted $V^*(s)$, which is the sum of all discounted future rewards the agent can expect on average after it reaches a state s, assuming it acts optimally.  \n",
    "This recursive equation says that if the agent acts optimally, then the optimal value of the current state is equal to the reward it will get on average after taking one optimal action, plus the expected optimal value of all possible next states that this action can lead to.  \n",
    "\n",
    "\n",
    "$V^*(s) = max_a \\sum_s T(s,a,s') \\left[R(s, a, s') + \\gamma V^*(s') \\right] \\text{  for all s}$\n",
    "\n",
    "### Value Iteration algorithm\n",
    "\n",
    "$V_{k+1}(s) \\leftarrow max_a \\sum_{s'} T(s,a,s') \\left[ R(s,a,s') + \\gamma V_k(s') \\right] \\text {   for all s}$"
   ]
  },
  {
   "cell_type": "markdown",
   "metadata": {},
   "source": [
    "# Q-values (Quality Values)\n",
    "State-action values (Q-Values).  The optimal Q-Value of the state-action pair (s,a) noted $Q^*(s,a)$, is the sum of discounted future rewards tha gent can expect on average after it reaches the state s and chooses action a, but before it sees the outcome of this action, assuming it acts optimally after that action.  \n",
    "\n",
    "Start with initialization all the Q-Value estimates to zero, then you update them using the Q-Value Iteration algorthm  \n",
    "$Q_{k+1}(s,a) \\leftarrow \\sum_{s'}T(s,a,s')\\left[ R(s,a,s') + \\gamma max_{a'} Q_k(s',a') \\right]$   \n",
    "\n",
    "Thus Optimal Policy $\\pi^*(s) = argmax_a Q^*(s,a)$"
   ]
  },
  {
   "cell_type": "code",
   "execution_count": 4,
   "metadata": {},
   "outputs": [],
   "source": [
    "gamma = 0.90 # the discount factor\n",
    "\n",
    "transition_probabilities = [ # shape=[s, a, s']\n",
    "    [[0.7, 0.3, 0.0], [1.0, 0.0, 0.0], [0.8, 0.2, 0.0]],\n",
    "    [[0.0, 1.0, 0.0], None, [0.0, 0.0, 1.0]],\n",
    "    [None, [0.8, 0.1, 0.1], None]]\n",
    "rewards = [ # shape=[s, a, s']\n",
    "    [[+10, 0, 0], [0, 0, 0], [0, 0, 0]],\n",
    "    [[0, 0, 0], [0, 0, 0], [0, 0, -50]],\n",
    "    [[0, 0, 0], [+40, 0, 0], [0, 0, 0]]]\n",
    "possible_actions = [[0, 1, 2], [0, 2], [1]]\n",
    "\n",
    "Q_values = np.full((3, 3), -np.inf) # -np.inf for impossible actions\n",
    "for state, actions in enumerate(possible_actions):\n",
    "    Q_values[state, actions] = 0.0 # for all possible actions\n",
    "\n",
    "for iteration in range(50):\n",
    "    Q_prev = Q_values.copy()\n",
    "    for s in range(3):\n",
    "        for a in possible_actions[s]:\n",
    "            Q_values[s, a] = np.sum([transition_probabilities[s][a][sp] * (rewards[s][a][sp] + gamma * np.max(Q_prev[sp]))\n",
    "                for sp in range(3)])"
   ]
  },
  {
   "cell_type": "code",
   "execution_count": 50,
   "metadata": {},
   "outputs": [
    {
     "data": {
      "text/plain": [
       "array([0, 0, 1])"
      ]
     },
     "execution_count": 50,
     "metadata": {},
     "output_type": "execute_result"
    }
   ],
   "source": [
    "np.argmax(Q_values, axis=1)"
   ]
  },
  {
   "cell_type": "markdown",
   "metadata": {},
   "source": [
    "# Temporal Difference Learning\n",
    "\n",
    "RL problems with discrete actions can often be modeled as Markov decision processes, but the agnet initially has no idea what the transition probabilities are, and it does not know what the rewards are going to be iether. it must experience each state and each transition at least once to know the rewards, and it must experience them multiple times if it is to have a reasonable estimate of the transition probabilities.  \n",
    "\n",
    "The _Temporal Difference Learning_ (TD Learning) algorithm is very similar to the Value Iteration algorithm, but tweaked to make into account the fact that the agent has only partial knowledge of the MDP. In general we assume that  the agent initially knows only the possible states and actions, and nothing more. The agent uses and _exploration policy_ - for example, a purely random policy - to explore the MDP, and as it progresses, the TD Learning algorithm updates the estimates of the state values based on the transitions and rewards athat are actually observed.  \n",
    "\n",
    "$V_{k+1}(s) \\leftarrow V_k(s) + \\alpha \\delta_k(s,r,s')$  \n",
    "$\\delta_k(s,r,s') = r + \\gamma V_k(s') - V_k(s)$\n",
    "\n",
    "- $\\alpha$ - learning rate (0.01)  \n",
    "- $r + \\gamma V_k(s')$ is called the TD _target_  \n",
    "- $\\delta_k(s,r,s')$ is called the TD _error_  \n",
    "\n",
    "\n",
    "For each state s, this algorithm simply keeps track of a running average of the immediate rewards the agnet gets upon leaving that state, plus the rewards it expects to get later (assuming it acts optimally).  "
   ]
  },
  {
   "cell_type": "markdown",
   "metadata": {},
   "source": [
    "# Q-Learning\n",
    "\n",
    "Adaptation of the Q-Value Iteration algorithm, where the transition probabilities and the rewards are initially unknown.  \n",
    "$Q(s,a) \\leftarrow_\\alpha r + \\gamma \\max_{a'}Q(s',a')$  \n",
    "\n",
    "For each state-action pair (s,a), this algorithm keeps track of a runnning average of the rewards r the agent gets upon leaving the state s with action a, plut the sum of discounted future rewards it expects to get. To estimate this sum, we take the maximum of the Q-Value estimates for the next state s', since we assume that the target policy would act optimally from then on.  "
   ]
  },
  {
   "cell_type": "code",
   "execution_count": 5,
   "metadata": {},
   "outputs": [],
   "source": [
    "def step(state, action):\n",
    "    probas = transition_probabilities[state][action]\n",
    "    next_state = np.random.choice([0,1,2], p=probas)\n",
    "    reward = rewards[state][action][next_state]\n",
    "    return next_state, reward\n",
    "\n",
    "def exploration_policy(state):\n",
    "    return np.random.choice(possible_actions[state])"
   ]
  },
  {
   "cell_type": "code",
   "execution_count": 6,
   "metadata": {},
   "outputs": [],
   "source": [
    "alpha0 = 0.05\n",
    "decay = 0.005\n",
    "gamma = 0.9\n",
    "state = 0\n",
    "\n",
    "for iteration in range(10000):\n",
    "    action = exploration_policy(state)\n",
    "    next_state, reward = step(state, action)\n",
    "    next_value = np.max(Q_values[next_state])\n",
    "    alpha = alpha0 / (1+iteration * decay)\n",
    "    Q_values[state, action] *= 1 - alpha\n",
    "    Q_values[state, action] += alpha * (reward + gamma * next_value)\n",
    "    state = next_state"
   ]
  },
  {
   "cell_type": "markdown",
   "metadata": {},
   "source": [
    "# Off-policy vs On-policy algorithm\n",
    "\n",
    "An algorithm is called _off-policy_ if the policy being trained is not necessarily the one being executed.  \n",
    "Policy Gradients algorithm is _on-policy_ algorithm: it explores the world using the policy being trained.  "
   ]
  },
  {
   "cell_type": "markdown",
   "metadata": {},
   "source": [
    "# Exploration Policies\n",
    "\n",
    "$\\epsilon$_-greedy policy_ (act randomly with probability $\\epsilon$, or 1-$\\epsilon$ take the highest Q-Value)  \n",
    "\n",
    "$Q(s,a) \\leftarrow_\\alpha r + \\gamma max_{a'} f(Q(s',a'), N(s',a'))$  \n",
    "- $N(s',a')$ counts the number of times the action a' was chisen in state s'\n",
    "- $f(Q,N)$ is an exploration function, such as $f(Q,N) = Q + k/(1+N)$, k is a curiosity hyperparameter.  "
   ]
  },
  {
   "cell_type": "code",
   "execution_count": 4,
   "metadata": {},
   "outputs": [],
   "source": [
    "env = gym.make('CartPole-v0')\n",
    "input_shape = [4]\n",
    "\n",
    "n_outputs = 2\n",
    "\n",
    "model = keras.models.Sequential([\n",
    "    keras.layers.Dense(32, activation='elu', input_shape=input_shape),\n",
    "    keras.layers.Dense(32, activation='elu'),\n",
    "    keras.layers.Dense(n_outputs)\n",
    "])"
   ]
  },
  {
   "cell_type": "code",
   "execution_count": 5,
   "metadata": {},
   "outputs": [],
   "source": [
    "def epsilon_greedy_policy(state, epsilon=0):\n",
    "    if np.random.rand() < epsilon:\n",
    "        return np.random.randint(2)\n",
    "    else:\n",
    "        Q_values = model.predict(state[np.newaxis])\n",
    "        return np.argmax(Q_values[0])"
   ]
  },
  {
   "cell_type": "code",
   "execution_count": 7,
   "metadata": {},
   "outputs": [],
   "source": [
    "from collections import deque\n",
    "import random\n",
    "\n",
    "replay_buffer = deque(maxlen=2000)"
   ]
  },
  {
   "cell_type": "code",
   "execution_count": 16,
   "metadata": {},
   "outputs": [],
   "source": [
    "def sample_experiences(batch_size):\n",
    "    items = random.sample(replay_buffer, batch_size)\n",
    "    s, a, r, ns, d = zip(*items)\n",
    "    return map(np.array, [s, a, r, ns, d])"
   ]
  },
  {
   "cell_type": "code",
   "execution_count": 17,
   "metadata": {},
   "outputs": [],
   "source": [
    "def play_one_step(env, state, epsilon):\n",
    "    action = epsilon_greedy_policy(state, epsilon)\n",
    "    ns, r, d, i = env.step(action)\n",
    "    replay_buffer.append((state, action, r, ns, d))\n",
    "    return ns, r, d, i"
   ]
  },
  {
   "cell_type": "code",
   "execution_count": 20,
   "metadata": {},
   "outputs": [],
   "source": [
    "batch_size = 32\n",
    "discount_factor = 0.95\n",
    "optimizer = keras.optimizers.Adam(lr=1e-3)\n",
    "loss_fn = keras.losses.mean_squared_error\n",
    "\n",
    "def training_step(batch_size):\n",
    "    states, actions, rewards, new_states, dones = sample_experiences(batch_size)\n",
    "    next_Q_values = model.predict(new_states)\n",
    "    max_next_Q_values = np.max(next_Q_values, axis=1)\n",
    "    target_Q_values = (rewards + (1-dones) * discount_factor * max_next_Q_values)\n",
    "    mask = tf.one_hot(actions, n_outputs)\n",
    "    with tf.GradientTape() as tape:\n",
    "        all_Q_values = model(states)\n",
    "        Q_values = tf.reduce_sum(all_Q_values * mask, axis=1, keepdims=True)\n",
    "        loss = tf.reduce_mean(loss_fn(target_Q_values, Q_values))\n",
    "    grads = tape.gradient(loss, model.trainable_variables)\n",
    "    optimizer.apply_gradients(zip(grads, model.trainable_variables))"
   ]
  },
  {
   "cell_type": "code",
   "execution_count": 25,
   "metadata": {},
   "outputs": [],
   "source": [
    "rewards = []\n",
    "\n",
    "for episode in range(600):\n",
    "    obs = env.reset()\n",
    "    for step in range(200):\n",
    "        epsilon = max(1. - episode / 500., 0.01)\n",
    "        obs, r, d, i = play_one_step(env, obs, epsilon)\n",
    "        if d:\n",
    "            rewards.append(step)\n",
    "            break\n",
    "    if episode > 50:\n",
    "        training_step(batch_size)"
   ]
  },
  {
   "cell_type": "code",
   "execution_count": 36,
   "metadata": {},
   "outputs": [],
   "source": [
    "import pandas as pd"
   ]
  },
  {
   "cell_type": "code",
   "execution_count": 41,
   "metadata": {},
   "outputs": [],
   "source": [
    "rewards = np.array(rewards)\n",
    "rewards = pd.Series(rewards)\n",
    "means = rewards.rolling(50).mean()"
   ]
  },
  {
   "cell_type": "code",
   "execution_count": 43,
   "metadata": {},
   "outputs": [
    {
     "data": {
      "image/png": "[encoded data removed]",
      "text/plain": [
       "<Figure size 432x288 with 1 Axes>"
      ]
     },
     "metadata": {
      "needs_background": "light"
     },
     "output_type": "display_data"
    }
   ],
   "source": [
    "import matplotlib.pyplot as plt\n",
    "\n",
    "plt.plot(range(0, len(rewards)), rewards)\n",
    "plt.plot(range(len(rewards) - len(means), len(rewards)), means)\n",
    "plt.show()"
   ]
  },
  {
   "cell_type": "markdown",
   "metadata": {},
   "source": [
    "### Sudden drops on a plot is called `Catastrophic forgetting`"
   ]
  },
  {
   "cell_type": "markdown",
   "metadata": {},
   "source": [
    "# Deep Q-Learning variants\n",
    "\n",
    "## Fixed Q-Value networks\n",
    "\n",
    "Tandem of `online` and `target` networks: `target` network makes predictions and `online` is learning. Each `k` episodes weights of target network are updated.  \n",
    "\n",
    "## Double DQN\n",
    "\n",
    "DeepMind researchers tweaked their DQN algorithm,\n",
    "increasing its performance and somewhat stabilizing training. They called this\n",
    "variant Double DQN. The update was based on the observation that the target\n",
    "network is prone to overestimating Q-Values. Indeed, suppose all actions are\n",
    "equally good: the Q-Values estimated by the target model should be identical,\n",
    "but since they are approximations, some may be slightly greater than others, by\n",
    "pure chance. The target model will always select the largest Q-Value, which will\n",
    "be slightly greater than the mean Q-Value, most likely overestimating the true QValue\n",
    "(a bit like counting the height of the tallest random wave when measuring\n",
    "the depth of a pool). To fix this, they proposed using the online model instead of\n",
    "the target model when selecting the best actions for the next states, and using the\n",
    "target model only to estimate the Q-Values for these best actions."
   ]
  },
  {
   "cell_type": "code",
   "execution_count": 44,
   "metadata": {},
   "outputs": [],
   "source": [
    "def training_step(batch_size):\n",
    "    experiences = sample_experiences(batch_size)\n",
    "    states, actions, rewards, next_states, dones = experiences\n",
    "    next_Q_values = model.predict(next_states)\n",
    "    best_next_actions = np.argmax(next_Q_values, axis=1)\n",
    "    next_mask = tf.one_hot(best_next_actions, n_outputs).numpy()\n",
    "    next_best_Q_values = (target.predict(next_states) * next_mask).sum(axis=1)\n",
    "    target_Q_values = (rewards + (1 - dones) * discount_factor * next_best_Q_values)\n",
    "    mask = tf.one_hot(actions, n_outputs)\n",
    "    [...] # the rest is the same as earlier"
   ]
  },
  {
   "cell_type": "markdown",
   "metadata": {},
   "source": [
    "## Prioritized Experience Replay\n",
    "\n",
    "Instead of sampling experiences uniformly from the replay buffer, why not\n",
    "sample important experiences more frequently? This idea is called importance\n",
    "sampling (IS) or prioritized experience replay (PER), and it was introduced in a\n",
    "2015 paper by DeepMind researchers (once again!).  \n",
    "\n",
    "More specifically, experiences are considered “important” if they are likely to\n",
    "lead to fast learning progress. But how can we estimate this? One reasonable\n",
    "approach is to measure the magnitude of the TD error δ = r + γ·V(s′) – V(s). A\n",
    "large TD error indicates that a transition (s, r, s′) is very surprising, and thus\n",
    "probably worth learning from. When an experience is recorded in the replay\n",
    "buffer, its priority is set to a very large value, to ensure that it gets sampled at\n",
    "least once. However, once it is sampled (and every time it is sampled), the TD\n",
    "error δ is computed, and this experience’s priority is set to p = |δ| (plus a small\n",
    "constant to ensure that every experience has a non-zero probability of being\n",
    "sampled). The probability P of sampling an experience with priority p is\n",
    "proportional to p , where ζ is a hyperparameter that controls how greedy we\n",
    "want importance sampling to be: when ζ = 0, we just get uniform sampling, and\n",
    "when ζ = 1, we get full-blown importance sampling. In the paper, the authors\n",
    "used ζ = 0.6, but the optimal value will depend on the task.  \n",
    "\n",
    "## Dueling DQN\n",
    "\n",
    "The Dueling DQN algorithm (DDQN, not to be confused with Double DQN,\n",
    "although both techniques can easily be combined) was introduced in yet another\n",
    "2015 paper by DeepMind researchers. To understand how it works, we must\n",
    "first note that the Q-Value of a state-action pair (s, a) can be expressed as Q(s, a)\n",
    "= V(s) + A(s, a), where V(s) is the value of state s and A(s, a) is the advantage of\n",
    "taking the action a in state s, compared to all other possible actions in that state.\n",
    "Moreover, the value of a state is equal to the Q-Value of the best action a for\n",
    "that state (since we assume the optimal policy will pick the best action), so V(s)\n",
    "= Q(s, a ), which implies that A(s, a ) = 0. In a Dueling DQN, the model\n",
    "estimates both the value of the state and the advantage of each possible action.\n",
    "Since the best action should have an advantage of 0, the model subtracts the\n",
    "maximum predicted advantage from all predicted advantages.  \n",
    "\n"
   ]
  },
  {
   "cell_type": "code",
   "execution_count": null,
   "metadata": {},
   "outputs": [],
   "source": []
  },
  {
   "cell_type": "code",
   "execution_count": null,
   "metadata": {},
   "outputs": [],
   "source": []
  }
 ],
 "metadata": {
  "kernelspec": {
   "display_name": "Python 3",
   "language": "python",
   "name": "python3"
  },
  "language_info": {
   "codemirror_mode": {
    "name": "ipython",
    "version": 3
   },
   "file_extension": ".py",
   "mimetype": "text/x-python",
   "name": "python",
   "nbconvert_exporter": "python",
   "pygments_lexer": "ipython3",
   "version": "3.7.7"
  }
 },
 "nbformat": 4,
 "nbformat_minor": 4
}
