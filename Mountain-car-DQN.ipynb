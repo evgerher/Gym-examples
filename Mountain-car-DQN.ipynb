{
 "cells": [
  {
   "cell_type": "code",
   "execution_count": 1,
   "metadata": {},
   "outputs": [],
   "source": [
    "import gym\n",
    "import math\n",
    "import random\n",
    "import numpy as np\n",
    "import matplotlib\n",
    "import matplotlib.pyplot as plt\n",
    "from collections import namedtuple\n",
    "from itertools import count\n",
    "from PIL import Image\n",
    "from tqdm import tqdm\n",
    "\n",
    "import torch\n",
    "import torch.nn as nn\n",
    "import torch.optim as optim\n",
    "import torch.nn.functional as F"
   ]
  },
  {
   "cell_type": "code",
   "execution_count": 2,
   "metadata": {},
   "outputs": [],
   "source": [
    "env = gym.make('MountainCar-v0').unwrapped\n",
    "device = torch.device(\"cuda\" if torch.cuda.is_available() else \"cpu\")"
   ]
  },
  {
   "cell_type": "code",
   "execution_count": 3,
   "metadata": {},
   "outputs": [
    {
     "data": {
      "text/plain": [
       "device(type='cuda')"
      ]
     },
     "execution_count": 3,
     "metadata": {},
     "output_type": "execute_result"
    }
   ],
   "source": [
    "device"
   ]
  },
  {
   "cell_type": "markdown",
   "metadata": {},
   "source": [
    "## Environment visualization\n",
    "\n",
    "Requires `torchvision` to be installed"
   ]
  },
  {
   "cell_type": "code",
   "execution_count": 4,
   "metadata": {
    "scrolled": true
   },
   "outputs": [
    {
     "data": {
      "image/png": "[encoded data removed]",
      "text/plain": [
       "<Figure size 432x288 with 1 Axes>"
      ]
     },
     "metadata": {
      "needs_background": "light"
     },
     "output_type": "display_data"
    }
   ],
   "source": [
    "import torchvision.transforms as T\n",
    "\n",
    "# set up matplotlib\n",
    "is_ipython = 'inline' in matplotlib.get_backend()\n",
    "if is_ipython:\n",
    "    from IPython import display\n",
    "\n",
    "plt.ion()\n",
    "\n",
    "resize = T.Compose([T.ToPILImage(),\n",
    "                    T.Resize(100, interpolation=Image.CUBIC),\n",
    "                    T.ToTensor()])\n",
    "\n",
    "\n",
    "def get_screen():\n",
    "    # Returned screen requested by gym is 400x600x3, but is sometimes larger\n",
    "    # such as 800x1200x3. Transpose it into torch order (CHW).\n",
    "    screen = env.render(mode='rgb_array').transpose((2, 0, 1))\n",
    "    # Cart is in the lower half, so strip off the top and bottom of the screen\n",
    "    _, screen_height, screen_width = screen.shape\n",
    "    view_width = int(screen_width * 0.6)\n",
    "    screen = np.ascontiguousarray(screen, dtype=np.float32) / 255\n",
    "    screen = torch.from_numpy(screen)\n",
    "    # Resize, and add a batch dimension (BCHW)\n",
    "    return resize(screen).unsqueeze(0).to(device)\n",
    "\n",
    "\n",
    "env.reset()\n",
    "plt.figure()\n",
    "plt.imshow(get_screen().cpu().squeeze(0).permute(1, 2, 0).numpy(),\n",
    "           interpolation='none')\n",
    "plt.title('MountainCar-v0 screen')\n",
    "plt.show()\n",
    "env.close()"
   ]
  },
  {
   "cell_type": "code",
   "execution_count": 5,
   "metadata": {},
   "outputs": [],
   "source": [
    "# from gym.utils.play import play\n",
    "# play(gym.make('MountainCar-v0'))"
   ]
  },
  {
   "cell_type": "markdown",
   "metadata": {},
   "source": [
    "# Deep Q-Network\n",
    "\n",
    "\n",
    "## Q-learning\n",
    "\n",
    "Q-learning is a process of learning action-value function $Q(s, a)$: measure of goodness of the action $a$ being in the state $s$. After the Q-learning process, algorithm provides table with Q-values, which is used to make decisions.  \n",
    "\n",
    "Learning process is made via one-step look ahead. \n",
    "\n",
    "$Q(s, a) \\leftarrow Q(s, a) + \\alpha \\left[ r_{t+1} + \\gamma \\max_{a'} Q(s', a') \\right] $\n",
    "\n",
    "## Deep Q-learning\n",
    "\n",
    "Whenever the space of states and actions becomes too large, the memory and computation requirements for Q is high.  \n",
    "To address that, DQN is introduced, where Deep Network approximates $Q(s,a)$.\n",
    "\n",
    "### Model Loss\n",
    "\n",
    "$r$ - reward for transition $(s, a) \\rightarrow s'$;  \n",
    "In this case, reward is potential-based: $r = r_{env} + 150 * (\\gamma * \\Phi(s') - \\Phi(s))$, where $\\Phi(s) = |h|$  \n",
    "\n",
    "\n",
    "$\\delta = Q(s, a) - (r + \\gamma max_{a'} Q(s', a'))$  \n",
    "$a'$ - largest state-action value in state $s'$"
   ]
  },
  {
   "cell_type": "code",
   "execution_count": 6,
   "metadata": {},
   "outputs": [],
   "source": [
    "class DQN(nn.Module):\n",
    "    \"\"\"\n",
    "    Simple model with 3 linear layers\n",
    "    \"\"\"\n",
    "    def __init__(self):\n",
    "        super(DQN, self).__init__()\n",
    "        self.fc1 = nn.Linear(2, 16)\n",
    "        self.fc2 = nn.Linear(16, 16)\n",
    "        self.fc3 = nn.Linear(16, 3)\n",
    "        \n",
    "    def forward(self, x):\n",
    "        x = F.relu(self.fc1(x))\n",
    "        x = F.relu(self.fc2(x))\n",
    "        x = self.fc3(x)\n",
    "        return x\n",
    "    \n",
    "def init_weights(m):\n",
    "    if type(m) == nn.Linear:\n",
    "        torch.nn.init.xavier_uniform_(m.weight)\n",
    "        m.bias.data.fill_(0.01)    "
   ]
  },
  {
   "cell_type": "code",
   "execution_count": 7,
   "metadata": {},
   "outputs": [],
   "source": [
    "from dataclasses import dataclass\n",
    "from collections import deque\n",
    "from typing import Deque, List, Tuple, Tuple\n",
    "import random\n",
    "from collections import namedtuple\n",
    "\n",
    "\n",
    "random.seed(1337)\n",
    "\n",
    "Transition = namedtuple('Transition', ('state', 'new_state', 'action', 'reward', 'done'))\n",
    "        \n",
    "# data inside will be tensors, not primitive types\n",
    "@dataclass\n",
    "class Batch:\n",
    "    state: List[Tuple[float, float]]\n",
    "    new_state: List[Tuple[float,float]]\n",
    "    action: List[int]\n",
    "    reward: List[int]\n",
    "    done: List[bool]\n",
    "\n",
    "\n",
    "# Experience Replay technique \n",
    "class ReplayMemory:\n",
    "    def __init__(self, capacity: int):\n",
    "        self.buffer: Deque[Transition] = deque(maxlen=capacity)\n",
    "        \n",
    "    def __getitem__(self, idx) -> Transition:\n",
    "        return self.buffer[idx]\n",
    "    \n",
    "    def push(self, *args):\n",
    "        self.buffer.append(Transition(*args))\n",
    "    \n",
    "    def __len__(self):\n",
    "        return len(self.buffer)\n",
    "    \n",
    "    def sample(self, batch_size) -> List[Transition]:\n",
    "        return random.sample(self.buffer, batch_size)\n"
   ]
  },
  {
   "cell_type": "code",
   "execution_count": 8,
   "metadata": {},
   "outputs": [],
   "source": [
    "def init_model():\n",
    "    net, target_net = DQN(), DQN()\n",
    "    net.apply(init_weights)\n",
    "    target_net.load_state_dict(net.state_dict())\n",
    "    target_net.eval()\n",
    "    return net.to(device), target_net.to(device)"
   ]
  },
  {
   "cell_type": "code",
   "execution_count": 18,
   "metadata": {},
   "outputs": [],
   "source": [
    "BATCH_SIZE = 128\n",
    "GAMMA = 0.99\n",
    "EPS_START = 0.99\n",
    "EPS_END = 0.1\n",
    "EPS_DECAY = 125\n",
    "TARGET_UPDATE = 25\n",
    "\n",
    "steps_done = 0\n",
    "\n",
    "def make_action(state):\n",
    "    global steps_done\n",
    "    prob = random.random()\n",
    "    eps_thr = EPS_END + (EPS_START - EPS_END) * math.exp(-1. * steps_done / EPS_DECAY)\n",
    "    steps_done += 1\n",
    "    \n",
    "    if prob > eps_thr:\n",
    "        with torch.no_grad():\n",
    "            return net(state).max(-1)[1].view(1, 1) # return tensor of 1 element (int \\in [0, 2])\n",
    "    else:\n",
    "        return torch.tensor([[random.randrange(3)]], device=device, dtype=torch.long) # return \n",
    "\n",
    "\n",
    "def optimization_step():\n",
    "    if len(memory) < BATCH_SIZE:\n",
    "        return\n",
    "    \n",
    "    sample: List[Transition] = memory.sample(BATCH_SIZE)\n",
    "    sample = Batch(*zip(*sample)) # list of separate transitions -> batch of transition parameters\n",
    "    \n",
    "    states = torch.cat(sample.state)\n",
    "    actions = torch.cat(sample.action)\n",
    "    new_states = torch.cat(sample.new_state)\n",
    "    rewards = torch.cat(sample.reward)\n",
    "    non_final_mask = ~torch.cat(sample.done) # mask for those samples, which are not finished (loss of finished = 0)\n",
    "    \n",
    "    # Q(s, a) [state-action values of all states] = model(s)(a)\n",
    "    # model(s).shape == [batch_size, 3]\n",
    "    # model(s)(a).shape == [batch_size, 1]\n",
    "    state_action_values = net(states).gather(1, actions)\n",
    "    \n",
    "    # V = max_{a'} Q(s', a')\n",
    "    next_state_values = torch.zeros(BATCH_SIZE, device=device) # V(s | state == finished)\n",
    "    next_state_values[non_final_mask] = target_net(new_states[non_final_mask]).max(1)[0].detach()\n",
    "    next_state_values = (next_state_values * GAMMA) + rewards\n",
    "    next_state_values.unsqueeze_(1)\n",
    "    \n",
    "    loss = F.smooth_l1_loss(state_action_values, next_state_values)\n",
    "\n",
    "    optimizer.zero_grad()\n",
    "    loss.backward()\n",
    "    for param in net.parameters():\n",
    "        param.grad.data.clamp_(-1, 1) # Continuation of idea behind `Clipping rewards`\n",
    "    optimizer.step()\n",
    "    "
   ]
  },
  {
   "cell_type": "code",
   "execution_count": 19,
   "metadata": {},
   "outputs": [],
   "source": [
    "net, target_net = init_model()\n",
    "optimizer = optim.RMSprop(net.parameters())\n",
    "memory = ReplayMemory(5000)\n",
    "durations = []\n",
    "\n",
    "def train(episodes=100, render_enabled=False):\n",
    "    pbar = tqdm(range(episodes))\n",
    "\n",
    "    for episode in pbar:\n",
    "        state = env.reset()\n",
    "        width, height = state\n",
    "        state = torch.tensor(state, dtype=torch.float, device=device).unsqueeze(0)\n",
    "\n",
    "        done = False\n",
    "        duration = 0\n",
    "  \n",
    "        while not done:\n",
    "            if render_enabled:\n",
    "                env.render()\n",
    "            action = make_action(state) # should return tensor\n",
    "            new_state, reward, done, _ = env.step(action.item())\n",
    "            new_width, new_height = new_state\n",
    "            \n",
    "            \n",
    "            \n",
    "            modified_reward = reward + 150 * (GAMMA * abs(new_height) - abs(height)) + 1e-3 * duration # penalize for many steps\n",
    "            new_state = torch.tensor(new_state, dtype=torch.float, device=device).unsqueeze(0)\n",
    "\n",
    "            modified_reward = torch.tensor([modified_reward], device=device, dtype=torch.float)\n",
    "            t_done = torch.tensor([done], device=device, dtype=torch.bool)\n",
    "            \n",
    "            \n",
    "            memory.push(state, new_state, action, modified_reward, t_done) # experience replay\n",
    "            optimization_step()\n",
    "            duration += 1\n",
    "\n",
    "            height = new_height\n",
    "            state = new_state\n",
    "            \n",
    "            if done and new_height > 0.046: # right hill is reached\n",
    "                durations.append(duration)\n",
    "            \n",
    "        \n",
    "        # Target Network update\n",
    "        if episode % TARGET_UPDATE == 0:\n",
    "            target_net.load_state_dict(net.state_dict())            \n",
    "        pbar.set_description(f'Last amount of steps: {duration}')\n",
    "    env.close()\n",
    "    return durations"
   ]
  },
  {
   "cell_type": "code",
   "execution_count": 20,
   "metadata": {
    "scrolled": true
   },
   "outputs": [
    {
     "name": "stderr",
     "output_type": "stream",
     "text": [
      "Last amount of steps: 199: 100%|██████████| 200/200 [01:09<00:00,  2.87it/s]\n"
     ]
    }
   ],
   "source": [
    "durations = train(200, render_enabled=False)"
   ]
  },
  {
   "cell_type": "code",
   "execution_count": 21,
   "metadata": {},
   "outputs": [
    {
     "data": {
      "image/png": "[encoded data removed]",
      "text/plain": [
       "<Figure size 432x288 with 1 Axes>"
      ]
     },
     "metadata": {
      "needs_background": "light"
     },
     "output_type": "display_data"
    }
   ],
   "source": [
    "plt.plot(range(1, len(durations)), durations[1:])\n",
    "plt.xlabel('Episode')\n",
    "plt.ylabel('Steps')\n",
    "plt.title('Amount of steps required to reach right hill')\n",
    "plt.show()"
   ]
  },
  {
   "cell_type": "markdown",
   "metadata": {},
   "source": [
    "## Demonstration\n",
    "\n",
    "On my PC, I run demonstration on virtual monitor, which is connected via VNC Viewer.  \n",
    "I expect it to run on a default screen, if all requirements are fulfilled."
   ]
  },
  {
   "cell_type": "code",
   "execution_count": 22,
   "metadata": {},
   "outputs": [],
   "source": [
    "from time import sleep"
   ]
  },
  {
   "cell_type": "code",
   "execution_count": 34,
   "metadata": {},
   "outputs": [],
   "source": [
    "done = False\n",
    "screens = []\n",
    "try:\n",
    "    with torch.no_grad():\n",
    "        global steps_done\n",
    "        steps_done = 0\n",
    "        state = env.reset()\n",
    "        while not done:\n",
    "#             env.render()\n",
    "            screens.append(get_screen().cpu().squeeze(0).permute(1, 2, 0).numpy())\n",
    "            state = torch.tensor(state, dtype=torch.float, device=device).unsqueeze(0)\n",
    "\n",
    "            \n",
    "            action = net(state).max(-1)[1].view(1, 1).item()\n",
    "            new_state, _, done, _ = env.step(action)\n",
    "            state = new_state\n",
    "            sleep(0.01)\n",
    "finally:\n",
    "    env.close()"
   ]
  },
  {
   "cell_type": "code",
   "execution_count": null,
   "metadata": {},
   "outputs": [],
   "source": []
  }
 ],
 "metadata": {
  "kernelspec": {
   "display_name": "Python 3",
   "language": "python",
   "name": "python3"
  },
  "language_info": {
   "codemirror_mode": {
    "name": "ipython",
    "version": 3
   },
   "file_extension": ".py",
   "mimetype": "text/x-python",
   "name": "python",
   "nbconvert_exporter": "python",
   "pygments_lexer": "ipython3",
   "version": "3.7.7"
  }
 },
 "nbformat": 4,
 "nbformat_minor": 4
}
